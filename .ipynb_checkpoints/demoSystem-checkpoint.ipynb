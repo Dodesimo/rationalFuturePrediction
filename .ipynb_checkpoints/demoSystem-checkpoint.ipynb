{
 "cells": [
  {
   "cell_type": "markdown",
   "source": [
    "# Rational Future Prediction\n",
    "Goal: create an LLM system that uses RAG in order to predict the next innovation in a particular field through time series forecasting."
   ],
   "metadata": {
    "collapsed": false
   },
   "id": "30e571cbfc9aa408"
  },
  {
   "cell_type": "markdown",
   "source": [
    "# Step 1: gather data for the vector database from a website containing \"timeline\" data."
   ],
   "metadata": {
    "collapsed": false
   },
   "id": "72f5372bccbb9534"
  },
  {
   "cell_type": "code",
   "execution_count": 35,
   "outputs": [
    {
     "data": {
      "text/plain": "'1881: First long-distance line, between\\nBoston and Providence, R.I. *[Note 5] 1908: AT&T President Theodore Vail sets a goal of Universal Service: providing\\nhigh-quality telephone service to any American who wants it. *[Note 5] 1915: AT&T engineers transmit speech across the Atlantic Ocean by wireless\\nradio. *[Note 5] 1917: Bell System engineers demonstrate oneway radiotelephone transmission from\\nairplane to ground. *[Note 5] 1919: AT&T introduces dial telephones. *[Note 5] 1923: AT&T longdistance lines connect stations in the first network-radio\\nbroadcast. *[Note 5] 1925: The Research and Engineering Departments of AT&T and the Western Electric\\nCompany are incorporated as ell Telephone Laboratories. *[Note 5] 1927: Wireless telephone service between New York and London. *[Note 5] 1927: Don Juan, the first fulllength movie with sound uses AT&T equipment and\\nthe next year, Warner Bros. produces The Jazz Singer with AT&T equipment. *[Note\\n5] 1947: Bell Labs scientists Shockley, Bardeen and Brattain invent the transistor.\\n*[Note 5] 1950: The first microwave relay system opens between New York and Chicago.\\n*[Note 5] 1951: Directdistance dialing begins, enabling customers to call long distance\\nwithout operator assistance. *[Note 5] 1954: Growing out of attempts to make a silicon transistor, the Solar Battery is\\ndeveloped by Bell Labs. *[Note 5] 1958: Bell Labs scientists Shawlow and Townes conceive basic principles of the\\nlaser. *[Note 5] 1964: Touch-Tone telephones introduced. *[Note 5] 1964: Picturephone attracts crowds at the New York World\\'s Fair. *[Note 5] 1965: \"Improved Mobile Telephone Service\" directly connects car phones to the\\nrest of AT&T\\'s network. *[Note 5] 1967: Toll-free 800 service debuts. *[Note 5] 1968: AT&T establishes \"911\" as the nationwide emergency telephone number.\\n*[Note 5] 1970: The FCC sets aside frequencies for mobile communications and AT&T proposes\\nbuilding the first high capacity cellulartelephone system, choosing Chicago as\\nthe test city. *[Note 5] 1977: AT&T designs and operates the world\\'s first commercial fiber-optic system.\\n*[Note 5] 1981: First cellular license. FCC authorizes AT&T\\'s \"Advanced Mobile Phone\\nService,\" a decade after AT&T\\'s initial application. *[Note 5] 1982: AT&T agrees to divest all wholly owned Bell operating companies\\' exchange\\noperations and two years later formal divestiture ends the Bell System. *[Note\\n5] 1987: Integrated Services Digital Network (ISDN) introduced, first method for\\nimplementing Information Superhighway. *[Note 5] 1992: AT&T becomes the first company ever to earn two Malcolm Baldrige Quality\\nAwards -both in the same year! *[Note 5] 1993: AT&T replaces Exxon as the most valuable company in the world, based on\\nmarket value of outstanding stock. *[Note 5] 1994: AT&T and McCaw merger completed. *[Note 5]'"
     },
     "execution_count": 35,
     "metadata": {},
     "output_type": "execute_result"
    }
   ],
   "source": [
    "from bs4 import BeautifulSoup\n",
    "import requests\n",
    "\n",
    "r = requests.get(\"https://www.telephonetribute.com/timeline.html\")\n",
    "html = r.text\n",
    "clean_text = ' '.join(BeautifulSoup(html, \"html.parser\").stripped_strings)\n",
    "text = \"1881\"+clean_text.split(\"1881\")[4]\n",
    "text"
   ],
   "metadata": {
    "collapsed": false,
    "ExecuteTime": {
     "end_time": "2024-06-16T16:16:49.376665Z",
     "start_time": "2024-06-16T16:16:49.254211Z"
    }
   },
   "id": "91ba9de7bf51f57a"
  },
  {
   "cell_type": "markdown",
   "source": [
    "## To extract data in the format of ['year']: ['sentence describing innovation'], use a GPT procedure."
   ],
   "metadata": {
    "collapsed": false
   },
   "id": "e2f8004c148aacf4"
  },
  {
   "cell_type": "code",
   "execution_count": 23,
   "outputs": [],
   "source": [
    "from langchain_openai import ChatOpenAI\n",
    "import getpass\n",
    "import os\n",
    "\n",
    "os.environ[\"OPENAI_API_KEY\"] = getpass.getpass(\"Enter your OpenAI API key: \")\n",
    "\n",
    "llm = ChatOpenAI(model=\"gpt-3.5-turbo-0613\")"
   ],
   "metadata": {
    "collapsed": false,
    "ExecuteTime": {
     "end_time": "2024-06-16T16:08:31.539337Z",
     "start_time": "2024-06-16T16:08:18.287186Z"
    }
   },
   "id": "18d352e83c0b600a"
  },
  {
   "cell_type": "code",
   "execution_count": 39,
   "outputs": [],
   "source": [
    "filteredText = llm.invoke(f\"Filter out data in the form of 'year':'sentence' from the following text document: {text}\")"
   ],
   "metadata": {
    "collapsed": false,
    "ExecuteTime": {
     "end_time": "2024-06-16T16:17:59.978103Z",
     "start_time": "2024-06-16T16:17:53.147281Z"
    }
   },
   "id": "330d5b0e15f9f33b"
  },
  {
   "cell_type": "code",
   "execution_count": 56,
   "outputs": [
    {
     "data": {
      "text/plain": "2550"
     },
     "execution_count": 56,
     "metadata": {},
     "output_type": "execute_result"
    }
   ],
   "source": [
    "data = filteredText.content\n",
    "open('data.txt', 'w').write(data)"
   ],
   "metadata": {
    "collapsed": false,
    "ExecuteTime": {
     "end_time": "2024-06-16T16:28:34.002233Z",
     "start_time": "2024-06-16T16:28:33.993472Z"
    }
   },
   "id": "409bb9a9d6248469"
  },
  {
   "cell_type": "markdown",
   "source": [
    "## Step 2: add the data to a vector database."
   ],
   "metadata": {
    "collapsed": false
   },
   "id": "23783d4b7ee3c18b"
  },
  {
   "cell_type": "code",
   "execution_count": 2,
   "outputs": [],
   "source": [
    "from langchain_community.document_loaders import TextLoader\n",
    "from langchain_openai import OpenAIEmbeddings\n",
    "import chromadb\n",
    "\n",
    "client = chromadb.Client()\n",
    "tp = client.create_collection(name=\"telephoneinnovation\")\n",
    "\n",
    "data = []\n",
    "with open('data.txt') as f:\n",
    "    for line in f:\n",
    "        data.append(line)"
   ],
   "metadata": {
    "collapsed": false,
    "ExecuteTime": {
     "end_time": "2024-06-16T17:31:04.242929Z",
     "start_time": "2024-06-16T17:31:02.780781Z"
    }
   },
   "id": "446ef3cd862083d5"
  },
  {
   "cell_type": "code",
   "execution_count": 34,
   "outputs": [
    {
     "data": {
      "text/plain": "['1',\n '2',\n '3',\n '4',\n '5',\n '6',\n '7',\n '8',\n '9',\n '10',\n '11',\n '12',\n '13',\n '14',\n '15',\n '16',\n '17',\n '18',\n '19',\n '20',\n '21',\n '22',\n '23',\n '24',\n '25',\n '26',\n '27']"
     },
     "execution_count": 34,
     "metadata": {},
     "output_type": "execute_result"
    }
   ],
   "source": [
    "#Embed each list.\n",
    "embeddings = OpenAIEmbeddings()\n",
    "dataEmbed = embeddings.embed_documents(data)\n",
    "ids = str(list(range(1, len(data))))\n",
    "\n",
    "tp.add(\n",
    "    \n",
    "    ids=ids,\n",
    "    documents=data,\n",
    "    embeddings = [dataEmbed]\n",
    "    \n",
    "    \n",
    ")"
   ],
   "metadata": {
    "collapsed": false,
    "ExecuteTime": {
     "end_time": "2024-06-16T17:41:54.061392Z",
     "start_time": "2024-06-16T17:41:54.061168Z"
    }
   },
   "id": "6ad5970450fb81ef"
  },
  {
   "cell_type": "code",
   "execution_count": 35,
   "outputs": [],
   "source": [],
   "metadata": {
    "collapsed": false,
    "ExecuteTime": {
     "end_time": "2024-06-16T17:41:55.469406Z",
     "start_time": "2024-06-16T17:41:54.907406Z"
    }
   },
   "id": "3f7ea86f20c0af11"
  }
 ],
 "metadata": {
  "kernelspec": {
   "display_name": "Python 3",
   "language": "python",
   "name": "python3"
  },
  "language_info": {
   "codemirror_mode": {
    "name": "ipython",
    "version": 2
   },
   "file_extension": ".py",
   "mimetype": "text/x-python",
   "name": "python",
   "nbconvert_exporter": "python",
   "pygments_lexer": "ipython2",
   "version": "2.7.6"
  }
 },
 "nbformat": 4,
 "nbformat_minor": 5
}
